{
  "nbformat": 4,
  "nbformat_minor": 0,
  "metadata": {
    "colab": {
      "provenance": [],
      "toc_visible": true,
      "authorship_tag": "ABX9TyOsHT2rt/LkxbKgXj+YoHIT",
      "include_colab_link": true
    },
    "kernelspec": {
      "name": "python3",
      "display_name": "Python 3"
    },
    "language_info": {
      "name": "python"
    }
  },
  "cells": [
    {
      "cell_type": "markdown",
      "metadata": {
        "id": "view-in-github",
        "colab_type": "text"
      },
      "source": [
        "<a href=\"https://colab.research.google.com/github/TieuDiem/Resize-Image-Interpolation/blob/main/Resize_Image_Interpolation.ipynb\" target=\"_parent\"><img src=\"https://colab.research.google.com/assets/colab-badge.svg\" alt=\"Open In Colab\"/></a>"
      ]
    },
    {
      "cell_type": "code",
      "execution_count": 1,
      "metadata": {
        "id": "A4ehDMZbmCgD"
      },
      "outputs": [],
      "source": [
        "import cv2\n",
        "import numpy as np"
      ]
    },
    {
      "cell_type": "code",
      "source": [
        "path_image = '/content/134206.jpg'\n",
        "img =cv2.imread(path_image)\n",
        "img.shape"
      ],
      "metadata": {
        "colab": {
          "base_uri": "https://localhost:8080/"
        },
        "id": "O7Xfw63YmIUR",
        "outputId": "ea1bd7bd-def8-44a7-96a7-e1a5d44b7ffd"
      },
      "execution_count": 2,
      "outputs": [
        {
          "output_type": "execute_result",
          "data": {
            "text/plain": [
              "(375, 500, 3)"
            ]
          },
          "metadata": {},
          "execution_count": 2
        }
      ]
    },
    {
      "cell_type": "markdown",
      "source": [
        "# Interpolation With Gray Image"
      ],
      "metadata": {
        "id": "ecF2_3jfmaF0"
      }
    },
    {
      "cell_type": "markdown",
      "source": [
        "# Interpolation With Color Image"
      ],
      "metadata": {
        "id": "vu8_O1QXmdko"
      }
    },
    {
      "cell_type": "code",
      "source": [],
      "metadata": {
        "id": "X-Q5g2oFmhHC"
      },
      "execution_count": null,
      "outputs": []
    }
  ]
}